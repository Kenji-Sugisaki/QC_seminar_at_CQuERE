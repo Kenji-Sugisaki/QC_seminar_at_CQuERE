{
 "cells": [
  {
   "cell_type": "markdown",
   "metadata": {},
   "source": [
    "# Qubit tapering using openfermion"
   ]
  },
  {
   "cell_type": "markdown",
   "metadata": {},
   "source": [
    "This is an example code for two-qubit reduction scheme in the Bravyi-Kitaev transformation.  \n",
    "  \n",
    "1) Define the S^2 operator for 2 molecular orbitals (with 4 qubits)  \n",
    "2) Perform Bravyi-Kitaev transformation to obtain a qubit Hamiltonian (4 qubits)  \n",
    "3) Perform symmetry-conserving Bravyi-Kitaev transformation to obtain a qubit Hamiltonian with 2 qubits  \n",
    "\n",
    "The 3rd step can be done by using the function symmetry_conserving_bravyi_kitaev in openfermion"
   ]
  },
  {
   "cell_type": "code",
   "execution_count": 3,
   "metadata": {},
   "outputs": [
    {
     "name": "stdout",
     "output_type": "stream",
     "text": [
      "S^2 operator in the second quantized form\n",
      "0.25 [0^ 0 0^ 0] +\n",
      "-0.25 [0^ 0 1^ 1] +\n",
      "0.25 [0^ 0 2^ 2] +\n",
      "-0.25 [0^ 0 3^ 3] +\n",
      "0.5 [0^ 1 1^ 0] +\n",
      "0.5 [0^ 1 3^ 2] +\n",
      "0.5 [1^ 0 0^ 1] +\n",
      "0.5 [1^ 0 2^ 3] +\n",
      "-0.25 [1^ 1 0^ 0] +\n",
      "0.25 [1^ 1 1^ 1] +\n",
      "-0.25 [1^ 1 2^ 2] +\n",
      "0.25 [1^ 1 3^ 3] +\n",
      "0.25 [2^ 2 0^ 0] +\n",
      "-0.25 [2^ 2 1^ 1] +\n",
      "0.25 [2^ 2 2^ 2] +\n",
      "-0.25 [2^ 2 3^ 3] +\n",
      "0.5 [2^ 3 1^ 0] +\n",
      "0.5 [2^ 3 3^ 2] +\n",
      "0.5 [3^ 2 0^ 1] +\n",
      "0.5 [3^ 2 2^ 3] +\n",
      "-0.25 [3^ 3 0^ 0] +\n",
      "0.25 [3^ 3 1^ 1] +\n",
      "-0.25 [3^ 3 2^ 2] +\n",
      "0.25 [3^ 3 3^ 3]\n",
      "\n",
      " S^2 operator in Bravyi-Kitaev transformation\n",
      "0.75 [] +\n",
      "-0.125 [X0 Z1 X2] +\n",
      "-0.125 [X0 Z1 X2 Z3] +\n",
      "0.125 [X0 X2] +\n",
      "0.125 [X0 X2 Z3] +\n",
      "-0.125 [Y0 Z1 Y2] +\n",
      "-0.125 [Y0 Z1 Y2 Z3] +\n",
      "0.125 [Y0 Y2] +\n",
      "0.125 [Y0 Y2 Z3] +\n",
      "-0.125 [Z0 Z1 Z2] +\n",
      "-0.125 [Z0 Z1 Z2 Z3] +\n",
      "0.125 [Z0 Z2] +\n",
      "0.125 [Z0 Z2 Z3] +\n",
      "-0.375 [Z1] +\n",
      "-0.375 [Z1 Z3]\n",
      "\n",
      " S^2 operator in symmetry-conserving Bravyi-Kitaev transformation (SC-BKT)\n",
      "0.5 [] +\n",
      "-0.5 [X0 X1] +\n",
      "-0.5 [Y0 Y1] +\n",
      "-0.5 [Z0 Z1]\n"
     ]
    }
   ],
   "source": [
    "import openfermion\n",
    "from openfermion.ops import *\n",
    "from openfermion.transforms import *\n",
    "from openfermion.utils import *\n",
    "\n",
    "def get_s2_operator(nmo):\n",
    "    # generate S^2 Fermionic operator in the direct mapping\n",
    "    \"\"\"\n",
    "    S(i,j)^2 = S_z(i)*S_z(j) + (S_+(i) * S_-(j) + S_-(i) * S_+(j))/2\n",
    "    \"\"\"\n",
    "    s2_operator = FermionOperator()\n",
    "     \n",
    "    for imo in range(nmo):\n",
    "        ia = 2 * imo\n",
    "        ib  = 2 * imo + 1\n",
    "        for jmo in range(nmo):\n",
    "            ja = 2 * jmo\n",
    "            jb  = 2 * jmo + 1\n",
    "            # S_z(i) * S_z(j) terms\n",
    "            s2_operator +=  0.25 * FermionOperator(((ia, 1), (ia, 0), (ja, 1), (ja, 0)))\n",
    "            s2_operator += -0.25 * FermionOperator(((ia, 1), (ia, 0), (jb, 1), (jb, 0)))\n",
    "            s2_operator += -0.25 * FermionOperator(((ib, 1), (ib, 0), (ja, 1), (ja, 0)))\n",
    "            s2_operator +=  0.25 * FermionOperator(((ib, 1), (ib, 0), (jb, 1), (jb, 0)))\n",
    "            # (S_+(i) * S_-(j) + S_-(i) * S_+(j))/2 terms\n",
    "            s2_operator +=  0.50 * FermionOperator(((ia, 1), (ib, 0), (jb, 1), (ja, 0)))\n",
    "            s2_operator +=  0.50 * FermionOperator(((ib, 1), (ia, 0), (ja, 1), (jb, 0)))    \n",
    "\n",
    "    return s2_operator\n",
    "\n",
    "nmo = 2\n",
    "\n",
    "s2_operator = get_s2_operator(nmo)  # Get S^2 operator using the function defined above\n",
    "\n",
    "print(\"S^2 operator in the second quantized form\")\n",
    "print(s2_operator)\n",
    "\n",
    "s2_bkt = bravyi_kitaev(s2_operator) # Apply Bravyi-Kitaev transformation\n",
    "s2_bkt.compress()                   # Delete zero imaginary\n",
    "print(\"\\n S^2 operator in Bravyi-Kitaev transformation\")\n",
    "print(s2_bkt)\n",
    "\n",
    "# Symmetry-conserving Bravyi-Kitaev transformation (k-spin orbital Hamiltonian -> (k-2)-qubit Hamiltonian)\n",
    "#  (Second quantized operator, number of qubits in original mapping (k), number of electrons)\n",
    "s2_scbkt = symmetry_conserving_bravyi_kitaev(s2_operator, 4, 2) \n",
    "s2_scbkt.compress()\n",
    "print(\"\\n S^2 operator in symmetry-conserving Bravyi-Kitaev transformation (SC-BKT)\")\n",
    "print(s2_scbkt)"
   ]
  }
 ],
 "metadata": {
  "kernelspec": {
   "display_name": "Python 3",
   "language": "python",
   "name": "python3"
  },
  "language_info": {
   "codemirror_mode": {
    "name": "ipython",
    "version": 3
   },
   "file_extension": ".py",
   "mimetype": "text/x-python",
   "name": "python",
   "nbconvert_exporter": "python",
   "pygments_lexer": "ipython3",
   "version": "3.7.6"
  }
 },
 "nbformat": 4,
 "nbformat_minor": 4
}
