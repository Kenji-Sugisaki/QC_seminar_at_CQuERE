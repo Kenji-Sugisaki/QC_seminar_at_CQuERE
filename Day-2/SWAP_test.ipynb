{
 "cells": [
  {
   "cell_type": "markdown",
   "metadata": {},
   "source": [
    "# SWAP test"
   ]
  },
  {
   "cell_type": "markdown",
   "metadata": {},
   "source": [
    "This is a sample code to perform a SWAP test using qiskit.\n",
    "\n",
    "|\\phi> = |0>\n",
    "|\\psi> = ry(theta)|0>\n",
    "\n",
    "The SWAP test returns always 0 if theta = 0, 2pi, 4pi, ...\n",
    "The measurement outcome becomes 50:50 if theta = pi, 3pi, 5pi, ..."
   ]
  },
  {
   "cell_type": "code",
   "execution_count": 6,
   "metadata": {},
   "outputs": [
    {
     "data": {
      "image/png": "[encoded data removed]",
      "text/plain": [
       "<Figure size 432x288 with 1 Axes>"
      ]
     },
     "metadata": {
      "needs_background": "light"
     },
     "output_type": "display_data"
    }
   ],
   "source": [
    "from qiskit import QuantumCircuit, execute, Aer\n",
    "import matplotlib.pyplot as plt\n",
    "from numpy import dot, conjugate\n",
    "from math import pi\n",
    "\n",
    "simulator = Aer.get_backend('statevector_simulator')\n",
    "\n",
    "# Discretization of the adiabatic evolution\n",
    "num_steps = 21\n",
    "thetas = []\n",
    "prob_zero = []\n",
    "\n",
    "for i in range(num_steps):\n",
    "    theta = i*pi/(0.5*(num_steps-1))\n",
    "    circuit = QuantumCircuit(3)\n",
    "    # Generate psi \n",
    "    circuit.ry(theta, 2)\n",
    "    # SWAP test\n",
    "    circuit.h(0)\n",
    "    circuit.cswap(0, 1, 2)\n",
    "    circuit.h(0)\n",
    "    job = execute(circuit, simulator)\n",
    "    ket = job.result().get_statevector()\n",
    "    thetas.append(theta)\n",
    "    prob_000 = dot(ket[0], conjugate(ket[0])).real\n",
    "    prob_001 = dot(ket[1], conjugate(ket[1])).real\n",
    "    prob_010 = dot(ket[2], conjugate(ket[2])).real\n",
    "    prob_011 = dot(ket[3], conjugate(ket[3])).real\n",
    "    prob_zero.append(prob_000 + prob_001 + prob_010 + prob_011)\n",
    "\n",
    "# Visualization of numerical quantum circuit simulation results \n",
    "\n",
    "fig = plt.figure()\n",
    "plt.plot(thetas, prob_zero, marker='o')\n",
    "plt.plot([-0.02, 6.4], [1, 1], marker='None', color='black', linestyle=':')\n",
    "plt.xlim(-0.02, 6.4)\n",
    "plt.ylim(0, 1.05)\n",
    "plt.xticks([0, pi, 2*pi], ['0', '$\\pi$', '$2\\pi$'])\n",
    "plt.ylabel('$P(0)$')\n",
    "plt.xlabel('$\\\\theta\\mathrm{/radian}$')\n",
    "plt.show()\n"
   ]
  }
 ],
 "metadata": {
  "kernelspec": {
   "display_name": "Python 3",
   "language": "python",
   "name": "python3"
  },
  "language_info": {
   "codemirror_mode": {
    "name": "ipython",
    "version": 3
   },
   "file_extension": ".py",
   "mimetype": "text/x-python",
   "name": "python",
   "nbconvert_exporter": "python",
   "pygments_lexer": "ipython3",
   "version": "3.7.6"
  }
 },
 "nbformat": 4,
 "nbformat_minor": 4
}
